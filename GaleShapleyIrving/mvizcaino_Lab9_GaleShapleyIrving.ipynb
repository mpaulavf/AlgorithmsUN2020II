{
  "nbformat": 4,
  "nbformat_minor": 0,
  "metadata": {
    "colab": {
      "name": "mvizcaino_Lab9_GaleShapleyIrving.ipynb",
      "provenance": [],
      "collapsed_sections": []
    },
    "kernelspec": {
      "name": "python3",
      "display_name": "Python 3"
    }
  },
  "cells": [
    {
      "cell_type": "markdown",
      "metadata": {
        "id": "qeyyplbn71_t"
      },
      "source": [
        "## Lab 9\n",
        "\n",
        "Maria Paula Vizcaino Forero"
      ]
    },
    {
      "cell_type": "markdown",
      "metadata": {
        "id": "1QxKvSVw1QS5"
      },
      "source": [
        "We import the libraries beforehand"
      ]
    },
    {
      "cell_type": "code",
      "metadata": {
        "id": "nAxsIm17XzCV"
      },
      "source": [
        "import math\n",
        "import pandas as pd\n",
        "import numpy as np\n",
        "import random\n",
        "from collections import Counter\n",
        "from copy import copy\n",
        "import copy as copyprob\n",
        "import matplotlib.pyplot as plt"
      ],
      "execution_count": 1,
      "outputs": []
    },
    {
      "cell_type": "markdown",
      "metadata": {
        "id": "LJhDWpH20PJS"
      },
      "source": [
        "**1.** Find the best and worst cases for the Gale-Shapley and Irving ( An Efficient Algorithm for the “Stable Roommates” Problem) Algorithms and run in Colab these algorithms for those cases for n=4 and 40."
      ]
    },
    {
      "cell_type": "markdown",
      "metadata": {
        "id": "dPXyys1DDCRW"
      },
      "source": [
        "**Gale-Shapley**"
      ]
    },
    {
      "cell_type": "code",
      "metadata": {
        "id": "M-9oLTHN6t0S"
      },
      "source": [
        "def wPrefersM1OverM(prefer, woman, man, man1, n): \n",
        "\n",
        "  N = n\n",
        "\t# Check if w prefers m over her \n",
        "  for i in range(N):\n",
        "\n",
        "\t\t# If m1 comes before m in list of w, then w prefers her current engagement\n",
        "    if (prefer[woman][i] == man1): \n",
        "      return True\n",
        "\n",
        "\t\t# If m comes before m1 in w's list, then free her current engagement\n",
        "    if (prefer[woman][i] == man): \n",
        "      return False\n",
        "  \n",
        "def stableMarriage(prefer, n): \n",
        "  N = n\n",
        "  \n",
        "  # Indicates the partner of w\n",
        "  wPartner = [-1 for i in range(N)] \n",
        "\n",
        "\t# An array to store availability of men\n",
        "  mFree = [False for i in range(N)] \n",
        "\n",
        "  freeCount = N \n",
        "\n",
        "  count = 0\n",
        "\n",
        "\t# While there are single men \n",
        "  while (freeCount > 0): \n",
        "    count += 1\n",
        "\n",
        "\t\t# First free man makes a proposal\n",
        "    m = 0\n",
        "    while (m < N): \n",
        "      if (mFree[m] == False): \n",
        "        break\n",
        "      m += 1\n",
        "\n",
        "    i = 0\n",
        "    while i < N and mFree[m] == False: \n",
        "      w = prefer[m][i] \n",
        "\n",
        "\t\t\t# The woman of preference is free, w and m get engagement\n",
        "      if (wPartner[w - N] == -1): \n",
        "        wPartner[w - N] = m \n",
        "        mFree[m] = True\n",
        "        freeCount -= 1\n",
        "\n",
        "      else: \t\n",
        "\t\t\t\t# If w is not free, find current engagement of w \n",
        "        m1 = wPartner[w - N] \n",
        "\n",
        "\t\t\t\t# If w prefers m over her current engagement m1, engage m with w. \n",
        "        if (wPrefersM1OverM(prefer, w, m, m1, N) == False): \n",
        "          wPartner[w - N] = m \n",
        "          mFree[m] = True\n",
        "          mFree[m1] = False\n",
        "      i += 1\n",
        "\n",
        "\t# Results\n",
        "  print(\"Iterations: \", count)\n",
        "  print(\"Woman \", \" Man\") \n",
        "  for i in range(N): \n",
        "    print(i + N, \"-----\", wPartner[i])"
      ],
      "execution_count": 2,
      "outputs": []
    },
    {
      "cell_type": "code",
      "metadata": {
        "id": "OH98TB8K9feK"
      },
      "source": [
        "def worstCaseGS(N):\n",
        "  \n",
        "  preferS = []\n",
        "  \n",
        "  # Woman list\n",
        "  preferW = [i+N for i in range(N)]\n",
        "  preferS.append(preferW[:])\n",
        "  for i in range(N-1):\n",
        "    listaux = preferW[1:N-1]\n",
        "    elemaux = preferW[0]\n",
        "    preferW[N-2] = elemaux\n",
        "    preferW[0:N-2] = listaux[:]\n",
        "    preferS.append(preferW[:])\n",
        "\n",
        "  # Man list\n",
        "  preferM = [i for i in range(N)]\n",
        "  for i in range(N):\n",
        "    ax = preferM.pop(0)\n",
        "    preferM.append(ax)\n",
        "    preferS.append(preferM[:])\n",
        "  return preferS"
      ],
      "execution_count": 3,
      "outputs": []
    },
    {
      "cell_type": "code",
      "metadata": {
        "id": "-Q3lseaP9ePZ"
      },
      "source": [
        "def bestCasesGS(N):\n",
        "\n",
        "  preferBS = []\n",
        "\n",
        "  # Woman list\n",
        "  preferW = [i+N for i in range(N)]\n",
        "  for i in range(N):\n",
        "    ax = preferW.pop(0)\n",
        "    preferW.append(ax)\n",
        "    preferBS.append(preferW[:])\n",
        "\n",
        "  # Man list\n",
        "  preferM = [i for i in range(N)]\n",
        "  for i in range(N):\n",
        "    ax = preferM.pop(0)\n",
        "    preferM.append(ax)\n",
        "    preferBS.append(preferM[:]) \n",
        "  return preferBS"
      ],
      "execution_count": 4,
      "outputs": []
    },
    {
      "cell_type": "markdown",
      "metadata": {
        "id": "GHQnXJt19Rwk"
      },
      "source": [
        "* For $n=4$ we have:"
      ]
    },
    {
      "cell_type": "markdown",
      "metadata": {
        "id": "eea3N9Fo9XRM"
      },
      "source": [
        "*Worst case* "
      ]
    },
    {
      "cell_type": "code",
      "metadata": {
        "colab": {
          "base_uri": "https://localhost:8080/"
        },
        "id": "n1gM_kEF9-Zi",
        "outputId": "ffc533e7-10e9-4a11-edbc-cb2d5386d84b"
      },
      "source": [
        "print(\"Worst case is: O(n) = n(n-1)+1 =\", 4*(4-1)+1)\n",
        "stableMarriage(worstCaseGS(4), 4)"
      ],
      "execution_count": 5,
      "outputs": [
        {
          "output_type": "stream",
          "text": [
            "Worst case is: O(n) = n(n-1)+1 = 13\n",
            "Iterations:  13\n",
            "Woman   Man\n",
            "4 ----- 1\n",
            "5 ----- 2\n",
            "6 ----- 3\n",
            "7 ----- 0\n"
          ],
          "name": "stdout"
        }
      ]
    },
    {
      "cell_type": "markdown",
      "metadata": {
        "id": "uDCNN5gR_Mqd"
      },
      "source": [
        "*Best case*"
      ]
    },
    {
      "cell_type": "code",
      "metadata": {
        "colab": {
          "base_uri": "https://localhost:8080/"
        },
        "id": "emb73Deg_Urj",
        "outputId": "7454c312-cb4f-4405-ef55-1c26bbc7a2ba"
      },
      "source": [
        "print(\"Best case is: O(n) = n =\", 4)\n",
        "stableMarriage(bestCasesGS(4), 4)"
      ],
      "execution_count": 6,
      "outputs": [
        {
          "output_type": "stream",
          "text": [
            "Best case is: O(n) = n = 4\n",
            "Iterations:  4\n",
            "Woman   Man\n",
            "4 ----- 3\n",
            "5 ----- 0\n",
            "6 ----- 1\n",
            "7 ----- 2\n"
          ],
          "name": "stdout"
        }
      ]
    },
    {
      "cell_type": "markdown",
      "metadata": {
        "id": "lqNLQF09_TiM"
      },
      "source": [
        "* For $n=40$ we have:"
      ]
    },
    {
      "cell_type": "markdown",
      "metadata": {
        "id": "rNG0cg8i_0r6"
      },
      "source": [
        "*Worst case*"
      ]
    },
    {
      "cell_type": "code",
      "metadata": {
        "colab": {
          "base_uri": "https://localhost:8080/"
        },
        "id": "jMkLiMJr_qCL",
        "outputId": "ef6e682d-bb89-427c-e2b2-596c8b470dd5"
      },
      "source": [
        "print(\"Worst case is: O(n) = n(n-1)+1 =\", 40*(40-1)+1)\n",
        "stableMarriage(worstCaseGS(40), 40)"
      ],
      "execution_count": 7,
      "outputs": [
        {
          "output_type": "stream",
          "text": [
            "Worst case is: O(n) = n(n-1)+1 = 1561\n",
            "Iterations:  1561\n",
            "Woman   Man\n",
            "40 ----- 1\n",
            "41 ----- 2\n",
            "42 ----- 3\n",
            "43 ----- 4\n",
            "44 ----- 5\n",
            "45 ----- 6\n",
            "46 ----- 7\n",
            "47 ----- 8\n",
            "48 ----- 9\n",
            "49 ----- 10\n",
            "50 ----- 11\n",
            "51 ----- 12\n",
            "52 ----- 13\n",
            "53 ----- 14\n",
            "54 ----- 15\n",
            "55 ----- 16\n",
            "56 ----- 17\n",
            "57 ----- 18\n",
            "58 ----- 19\n",
            "59 ----- 20\n",
            "60 ----- 21\n",
            "61 ----- 22\n",
            "62 ----- 23\n",
            "63 ----- 24\n",
            "64 ----- 25\n",
            "65 ----- 26\n",
            "66 ----- 27\n",
            "67 ----- 28\n",
            "68 ----- 29\n",
            "69 ----- 30\n",
            "70 ----- 31\n",
            "71 ----- 32\n",
            "72 ----- 33\n",
            "73 ----- 34\n",
            "74 ----- 35\n",
            "75 ----- 36\n",
            "76 ----- 37\n",
            "77 ----- 38\n",
            "78 ----- 39\n",
            "79 ----- 0\n"
          ],
          "name": "stdout"
        }
      ]
    },
    {
      "cell_type": "markdown",
      "metadata": {
        "id": "fwWb5NmS_xDF"
      },
      "source": [
        "*Best case*"
      ]
    },
    {
      "cell_type": "code",
      "metadata": {
        "colab": {
          "base_uri": "https://localhost:8080/"
        },
        "id": "sAjN0IEQ_7l7",
        "outputId": "b1ed1f2e-58e4-43ab-f803-778a8d63c1fe"
      },
      "source": [
        "print(\"Best case is: O(n) = n =\", 40)\n",
        "stableMarriage(bestCasesGS(40), 40)"
      ],
      "execution_count": 8,
      "outputs": [
        {
          "output_type": "stream",
          "text": [
            "Best case is: O(n) = n = 40\n",
            "Iterations:  40\n",
            "Woman   Man\n",
            "40 ----- 39\n",
            "41 ----- 0\n",
            "42 ----- 1\n",
            "43 ----- 2\n",
            "44 ----- 3\n",
            "45 ----- 4\n",
            "46 ----- 5\n",
            "47 ----- 6\n",
            "48 ----- 7\n",
            "49 ----- 8\n",
            "50 ----- 9\n",
            "51 ----- 10\n",
            "52 ----- 11\n",
            "53 ----- 12\n",
            "54 ----- 13\n",
            "55 ----- 14\n",
            "56 ----- 15\n",
            "57 ----- 16\n",
            "58 ----- 17\n",
            "59 ----- 18\n",
            "60 ----- 19\n",
            "61 ----- 20\n",
            "62 ----- 21\n",
            "63 ----- 22\n",
            "64 ----- 23\n",
            "65 ----- 24\n",
            "66 ----- 25\n",
            "67 ----- 26\n",
            "68 ----- 27\n",
            "69 ----- 28\n",
            "70 ----- 29\n",
            "71 ----- 30\n",
            "72 ----- 31\n",
            "73 ----- 32\n",
            "74 ----- 33\n",
            "75 ----- 34\n",
            "76 ----- 35\n",
            "77 ----- 36\n",
            "78 ----- 37\n",
            "79 ----- 38\n"
          ],
          "name": "stdout"
        }
      ]
    },
    {
      "cell_type": "markdown",
      "metadata": {
        "id": "8iMEXFKCDJy3"
      },
      "source": [
        "**Irving**"
      ]
    },
    {
      "cell_type": "code",
      "metadata": {
        "id": "QNUWjgsSCzC-"
      },
      "source": [
        "# Function keys\n",
        "def getKey(list0, key0):\n",
        "    for key, val in list0.items():\n",
        "        if val == key0:\n",
        "            return key\n",
        "    return 0\n",
        "\n",
        "# Function cycle\n",
        "def cycle(table):\n",
        "    tableI = table[0]\n",
        "    tableD = table[1]\n",
        "    if len(tableI) > len(set(tableI)):\n",
        "        return True\n",
        "    else:\n",
        "        return False\n",
        "\n",
        "# Function case non estable\n",
        "def nonEstable(prefer):\n",
        "    for i in prefer:\n",
        "        if len(prefer[i]) == 0:\n",
        "            return True\n",
        "    return False\n",
        "\n",
        "# Function case estable\n",
        "def Estable(prefer):\n",
        "  for i in prefer:\n",
        "    if len(prefer[i]) != 1:\n",
        "      return False\n",
        "  return True\n",
        "\n",
        "# Function remove cycle\n",
        "def removeCycle(prefer, table):\n",
        "  npreferences = prefer\n",
        "  for i in range(len(table[0]) - 1):\n",
        "    npreferences[table[1][i]].remove(table[0][i+1])\n",
        "    npreferences[table[0][i+1]].remove(table[1][i])\n",
        "  return npreferences\n",
        "\n",
        "# Function first step\n",
        "def step1(prefer):\n",
        "\n",
        "  # Waiting list\n",
        "  waiting_list = []\n",
        "\n",
        "  # Proposals at the time\n",
        "  proposals = {}\n",
        "\n",
        "  # Proposal's amount\n",
        "  nproposals = {}\n",
        "\n",
        "  # Step's amount\n",
        "  steps = 0\n",
        "\n",
        "  for i in prefer:\n",
        "    waiting_list.append(i)\n",
        "    proposals[i] = None\n",
        "    nproposals[i] = 0\n",
        "  npreferences = copyprob.deepcopy(prefer)\n",
        "\n",
        "  # While there are w in waiting list\n",
        "  while not len(waiting_list) == 0:\n",
        "    i = waiting_list[0]\n",
        "    nproposals[i] += 1\n",
        "    steps += 1\n",
        "\n",
        "    # Case non estable proposals\n",
        "    if nproposals[i]> len(proposals):\n",
        "      print(\"There are not estable couples.\")\n",
        "      return (False,False)\n",
        "\n",
        "    for j in prefer[i]:\n",
        "\n",
        "      # Case any proposals\n",
        "      if proposals[j] == None:\n",
        "        del waiting_list[0]\n",
        "        proposals[j] = i\n",
        "        break\n",
        "\n",
        "      # Num proposals not the iteration\n",
        "      elif proposals[j] != i:\n",
        "        actual = prefer[j].index(i)\n",
        "        other = prefer[j].index(proposals[j])\n",
        "        if actual < other:\n",
        "          del waiting_list[0]\n",
        "          waiting_list.insert(0, proposals[j])\n",
        "          npreferences[proposals[j]].remove(j)\n",
        "          npreferences[j].remove(proposals[j])\n",
        "          proposals[j] = i\n",
        "          break\n",
        "        else:\n",
        "          npreferences[i].remove(j)\n",
        "          npreferences[j].remove(i)\n",
        "    prefer = copyprob.deepcopy(npreferences)\n",
        "  return (proposals, prefer, steps)\n",
        "\n",
        "# Function second step\n",
        "def step2(proposals, prefer, steps):\n",
        "  npreferences = copyprob.deepcopy(prefer)\n",
        "\n",
        "  for k in prefer:\n",
        "    indexproposals = npreferences[k].index(proposals[k])\n",
        "    npreferences[k]= npreferences[k][:indexproposals+1]\n",
        "    \n",
        "    for j in prefer:\n",
        "      key = getKey(proposals,k)\n",
        "      if j != k and j != proposals[k] and j != key:\n",
        "        try:\n",
        "          npreferences[j].remove(k)\n",
        "        except ValueError:\n",
        "          pass\n",
        "  return (npreferences, steps)\n",
        "\n",
        "# Function third step\n",
        "def step3(prefer, steps):\n",
        "\n",
        "  t = True\n",
        "  while True:\n",
        "\n",
        "    table=([],[])\n",
        "    if nonEstable(prefer):\n",
        "      print(\"There are not estable couples.\")\n",
        "      return False\n",
        "\n",
        "    for i in prefer:\n",
        "\n",
        "      if len(prefer[i]) >= 2 and t == True:\n",
        "        match1 = i\n",
        "        table[0].append(match1)\n",
        "        match2 = prefer[i][1]\n",
        "        table[1].append(match2)\n",
        "        t = False\n",
        "        steps += 1\n",
        "\n",
        "      elif t == False:\n",
        "        if (cycle(table)):\n",
        "          prefer = removeCycle(prefer, table)\n",
        "          t = True\n",
        "          steps += 1\n",
        "          break\n",
        "        match1 = prefer[match2][-1]\n",
        "        table[0].append(match1)\n",
        "        match2 = prefer[match1][1]\n",
        "        table[1].append(match2)\n",
        "        steps += 1\n",
        "\n",
        "    if Estable(prefer):\n",
        "      return (prefer, steps)\n",
        "\n",
        "  return False\n",
        "\n",
        "# General function\n",
        "def Irving(prefer):\n",
        "\n",
        "  a = step1(prefer)\n",
        "  proposals = a[0]\n",
        "\n",
        "  if proposals == False:\n",
        "    return False\n",
        "  prefer1 = a[1]\n",
        "  steps = a[2]\n",
        "  prefer2 = step2(proposals, prefer1, steps)[0]\n",
        "  steps = step2(proposals, prefer1, steps)[1]\n",
        "\n",
        "  if prefer2 == False:\n",
        "    return False\n",
        "\n",
        "  prefer3 = step3(prefer2, steps)\n",
        "  matches = prefer3[0]\n",
        "  steps = prefer3[1]\n",
        "\n",
        "  # Results\n",
        "  print(\"Woman \", \" Man\") \n",
        "  for i in matches:\n",
        "    a=i\n",
        "    for j in matches[i]:\n",
        "      print(a,\" ----- \", j)"
      ],
      "execution_count": 9,
      "outputs": []
    },
    {
      "cell_type": "code",
      "metadata": {
        "id": "D4fhSqN1JxO2"
      },
      "source": [
        "def worstIrving(n):\n",
        "\n",
        "  prefer = {}\n",
        "\n",
        "  for k in range(n):\n",
        "      ni = n\n",
        "      wlist = []\n",
        "      for i in range(k+1, n):\n",
        "        wlist.append(i)\n",
        "      for j in range (k):\n",
        "        wlist.append(j)\n",
        "      prefer[k] = wlist\n",
        "      \n",
        "  return prefer"
      ],
      "execution_count": 10,
      "outputs": []
    },
    {
      "cell_type": "code",
      "metadata": {
        "id": "yFiQbiPRJ_Ny"
      },
      "source": [
        "def bestIrving(n):\n",
        "\n",
        "  prefer = {}\n",
        "\n",
        "  for k in range(n):\n",
        "      blist=[]\n",
        "      blist.append(n-k-1)\n",
        "\n",
        "      while not len(blist) == n-1:\n",
        "        r=random.randint(0, n-1)\n",
        "        if r not in blist and r != k:\n",
        "          blist.append(r)\n",
        "      prefer[k] = blist\n",
        "\n",
        "  return prefer"
      ],
      "execution_count": 11,
      "outputs": []
    },
    {
      "cell_type": "markdown",
      "metadata": {
        "id": "jwD24dKbHX5H"
      },
      "source": [
        "* For $n=4$ we have:"
      ]
    },
    {
      "cell_type": "markdown",
      "metadata": {
        "id": "WI1W4iPUHalB"
      },
      "source": [
        "*Worst case*"
      ]
    },
    {
      "cell_type": "code",
      "metadata": {
        "colab": {
          "base_uri": "https://localhost:8080/"
        },
        "id": "4gk-JFx9KOGQ",
        "outputId": "f6952c4a-43f2-455e-bc43-613210c13923"
      },
      "source": [
        "Irving(worstIrving(4))"
      ],
      "execution_count": 12,
      "outputs": [
        {
          "output_type": "stream",
          "text": [
            "Woman   Man\n",
            "0  -----  3\n",
            "1  -----  2\n",
            "2  -----  1\n",
            "3  -----  0\n"
          ],
          "name": "stdout"
        }
      ]
    },
    {
      "cell_type": "markdown",
      "metadata": {
        "id": "zUZD55oLHay6"
      },
      "source": [
        "*Best case*"
      ]
    },
    {
      "cell_type": "code",
      "metadata": {
        "colab": {
          "base_uri": "https://localhost:8080/"
        },
        "id": "Pd4mUcSZKQ-x",
        "outputId": "14fb029b-883b-4823-991c-a6086b8e3641"
      },
      "source": [
        "Irving(bestIrving(4))"
      ],
      "execution_count": 13,
      "outputs": [
        {
          "output_type": "stream",
          "text": [
            "Woman   Man\n",
            "0  -----  3\n",
            "1  -----  2\n",
            "2  -----  1\n",
            "3  -----  0\n"
          ],
          "name": "stdout"
        }
      ]
    },
    {
      "cell_type": "markdown",
      "metadata": {
        "id": "uuchZzjeHgvk"
      },
      "source": [
        "* For $n=40$ we have:"
      ]
    },
    {
      "cell_type": "markdown",
      "metadata": {
        "id": "3wBwu9MNHg5V"
      },
      "source": [
        "*Worst case*"
      ]
    },
    {
      "cell_type": "code",
      "metadata": {
        "colab": {
          "base_uri": "https://localhost:8080/"
        },
        "id": "2LVksz2HKWKy",
        "outputId": "7af02fe9-df4d-48cf-c1ad-17ab0787a192"
      },
      "source": [
        "Irving(worstIrving(40))"
      ],
      "execution_count": 14,
      "outputs": [
        {
          "output_type": "stream",
          "text": [
            "Woman   Man\n",
            "0  -----  39\n",
            "1  -----  2\n",
            "2  -----  1\n",
            "3  -----  4\n",
            "4  -----  3\n",
            "5  -----  6\n",
            "6  -----  5\n",
            "7  -----  8\n",
            "8  -----  7\n",
            "9  -----  10\n",
            "10  -----  9\n",
            "11  -----  12\n",
            "12  -----  11\n",
            "13  -----  14\n",
            "14  -----  13\n",
            "15  -----  16\n",
            "16  -----  15\n",
            "17  -----  18\n",
            "18  -----  17\n",
            "19  -----  20\n",
            "20  -----  19\n",
            "21  -----  22\n",
            "22  -----  21\n",
            "23  -----  24\n",
            "24  -----  23\n",
            "25  -----  26\n",
            "26  -----  25\n",
            "27  -----  28\n",
            "28  -----  27\n",
            "29  -----  30\n",
            "30  -----  29\n",
            "31  -----  32\n",
            "32  -----  31\n",
            "33  -----  34\n",
            "34  -----  33\n",
            "35  -----  36\n",
            "36  -----  35\n",
            "37  -----  38\n",
            "38  -----  37\n",
            "39  -----  0\n"
          ],
          "name": "stdout"
        }
      ]
    },
    {
      "cell_type": "markdown",
      "metadata": {
        "id": "tiIaeTbZHhB5"
      },
      "source": [
        "*Best case*"
      ]
    },
    {
      "cell_type": "code",
      "metadata": {
        "colab": {
          "base_uri": "https://localhost:8080/"
        },
        "id": "YkF2bsGBKX9D",
        "outputId": "874c38dc-994d-40d9-cb6f-a191691a1b7a"
      },
      "source": [
        "Irving(bestIrving(40))"
      ],
      "execution_count": 15,
      "outputs": [
        {
          "output_type": "stream",
          "text": [
            "Woman   Man\n",
            "0  -----  39\n",
            "1  -----  38\n",
            "2  -----  37\n",
            "3  -----  36\n",
            "4  -----  35\n",
            "5  -----  34\n",
            "6  -----  33\n",
            "7  -----  32\n",
            "8  -----  31\n",
            "9  -----  30\n",
            "10  -----  29\n",
            "11  -----  28\n",
            "12  -----  27\n",
            "13  -----  26\n",
            "14  -----  25\n",
            "15  -----  24\n",
            "16  -----  23\n",
            "17  -----  22\n",
            "18  -----  21\n",
            "19  -----  20\n",
            "20  -----  19\n",
            "21  -----  18\n",
            "22  -----  17\n",
            "23  -----  16\n",
            "24  -----  15\n",
            "25  -----  14\n",
            "26  -----  13\n",
            "27  -----  12\n",
            "28  -----  11\n",
            "29  -----  10\n",
            "30  -----  9\n",
            "31  -----  8\n",
            "32  -----  7\n",
            "33  -----  6\n",
            "34  -----  5\n",
            "35  -----  4\n",
            "36  -----  3\n",
            "37  -----  2\n",
            "38  -----  1\n",
            "39  -----  0\n"
          ],
          "name": "stdout"
        }
      ]
    },
    {
      "cell_type": "markdown",
      "metadata": {
        "id": "YSk7bqmA-1iq"
      },
      "source": [
        "**2.** Run the Gale-Shapley Algorithm 100 times using random permutations as preference lists for n=4 and 40. Find the minimum, maximum and average number of iterations and plot the distribution of the number of iterations."
      ]
    },
    {
      "cell_type": "code",
      "metadata": {
        "id": "WoyIEkKP9OR7"
      },
      "source": [
        "def GS(n):\n",
        "\n",
        "  step_count=[]\n",
        "  \n",
        "  # Gale-Sahpley Algoritm 100 times\n",
        "  \n",
        "  for t in range(100): \n",
        "\n",
        "    # Choosing man and woman\n",
        "    man=[random.sample(list(range(1,n+1)),n) for i in range(n)]\n",
        "    woman=[random.sample(list(range(1,n+1)),n) for i in range(n)]\n",
        "\n",
        "    # Man's and woman's list\n",
        "    man_list = list(range(1,n+1))\n",
        "    woman_list = list(range(n+1,n*2+1))\n",
        "\n",
        "    # For dataframes\n",
        "    col=list(range(n+1,n*2+1))\n",
        "    ind=list(range(1,n+1))\n",
        "\n",
        "    # Woman's and man's dataframe\n",
        "    woman_df = pd.DataFrame({col[i]:woman[i] for i in range(n)},index=ind) \n",
        "    man_df = pd.DataFrame(man,columns=col,index=ind) \n",
        "\n",
        "    # Available woman list\n",
        "    woman_available = {man:woman_list for man in man_list}\n",
        "\n",
        "    # Waiting list\n",
        "    waiting_list = []\n",
        "\n",
        "    # Proposal's amount\n",
        "    proposals = {}\n",
        "    count = 0\n",
        "\n",
        "    # While there are single man\n",
        "    while len(waiting_list) < len(man_list):\n",
        "\n",
        "      for man in man_list:\n",
        "        \n",
        "        # For each men single a proposal is made\n",
        "        if man not in waiting_list:\n",
        "            \n",
        "          women = woman_available[man]\n",
        "          best_choice = man_df.loc[man][man_df.loc[man].index.isin(women)].idxmin()\n",
        "          \n",
        "          # Proposal's amount          \n",
        "          proposals[(man, best_choice)]=(man_df.loc[man][best_choice],woman_df.loc[man][best_choice])\n",
        "\n",
        "      overlays = Counter([key[1] for key in proposals.keys()])\n",
        "\n",
        "      for women in overlays.keys():\n",
        "\n",
        "        # For each women we see her proposal and take the optimal \n",
        "        if overlays[women] > 1:\n",
        "\n",
        "          # Remove other m\n",
        "          pairs_to_drop = sorted({pair: proposals[pair] for pair in proposals.keys() if women in pair}.items(), key=lambda x: x[1][1])[1:]\n",
        "\n",
        "          # Remove w form available list\n",
        "          for p_to_drop in pairs_to_drop:\n",
        "            del proposals[p_to_drop[0]]\n",
        "            _women = copy(woman_available[p_to_drop[0][0]])\n",
        "            _women.remove(p_to_drop[0][1])\n",
        "            woman_available[p_to_drop[0][0]] = _women\n",
        "\n",
        "      waiting_list = [man[0] for man in proposals.keys()]\n",
        "\n",
        "      count += 1\n",
        "\n",
        "    step_count.append(count)\n",
        "\n",
        "  # Plot the histogram\n",
        "  plt.hist(step_count, bins=max(step_count)-min(step_count))\n",
        "  plt.xlabel('Days')\n",
        "  plt.ylabel('Frecuency')\n",
        "  plt.title(\"Histogram n of days\")\n",
        "  plt.show()\n",
        "  print(\"Maximum of days: \",max(step_count))\n",
        "  print(\"Minimum of days: \",min(step_count))\n",
        "  print(\"Average of days: \",sum(step_count)/len(step_count))"
      ],
      "execution_count": 16,
      "outputs": []
    },
    {
      "cell_type": "markdown",
      "metadata": {
        "id": "9UPtQi5I--iq"
      },
      "source": [
        "* For $n=4$ we have:"
      ]
    },
    {
      "cell_type": "code",
      "metadata": {
        "id": "8MuRZpFI74cW",
        "colab": {
          "base_uri": "https://localhost:8080/",
          "height": 346
        },
        "outputId": "296f565c-6cc1-462a-da8e-655e29eb4b26"
      },
      "source": [
        "GS(4)"
      ],
      "execution_count": 17,
      "outputs": [
        {
          "output_type": "display_data",
          "data": {
            "image/png": "[encoded data removed]",
            "text/plain": [
              "<Figure size 432x288 with 1 Axes>"
            ]
          },
          "metadata": {
            "tags": [],
            "needs_background": "light"
          }
        },
        {
          "output_type": "stream",
          "text": [
            "Maximum of days:  8\n",
            "Minimum of days:  1\n",
            "Average of days:  3.12\n"
          ],
          "name": "stdout"
        }
      ]
    },
    {
      "cell_type": "markdown",
      "metadata": {
        "id": "KmXPgjEj_EZb"
      },
      "source": [
        "* For $n=40$ we have:"
      ]
    },
    {
      "cell_type": "code",
      "metadata": {
        "id": "c84T_tFD77I_",
        "colab": {
          "base_uri": "https://localhost:8080/",
          "height": 346
        },
        "outputId": "8647bbb7-a859-4fdd-e758-d37b50545d3e"
      },
      "source": [
        "GS(40)"
      ],
      "execution_count": 18,
      "outputs": [
        {
          "output_type": "display_data",
          "data": {
            "image/png": "[encoded data removed]",
            "text/plain": [
              "<Figure size 432x288 with 1 Axes>"
            ]
          },
          "metadata": {
            "tags": [],
            "needs_background": "light"
          }
        },
        {
          "output_type": "stream",
          "text": [
            "Maximum of days:  202\n",
            "Minimum of days:  10\n",
            "Average of days:  52.36\n"
          ],
          "name": "stdout"
        }
      ]
    },
    {
      "cell_type": "markdown",
      "metadata": {
        "id": "1hefXggl85qf"
      },
      "source": [
        "# References\n",
        "\n",
        "* Geeks and Geeks https://www.geeksforgeeks.org/stable-marriage-problem/"
      ]
    }
  ]
}